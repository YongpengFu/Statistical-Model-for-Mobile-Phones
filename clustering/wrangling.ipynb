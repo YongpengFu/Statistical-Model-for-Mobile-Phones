{
 "cells": [
  {
   "cell_type": "code",
   "execution_count": 1,
   "id": "d1cb5819",
   "metadata": {},
   "outputs": [
    {
     "data": {
      "text/html": [
       "<div>\n",
       "<style scoped>\n",
       "    .dataframe tbody tr th:only-of-type {\n",
       "        vertical-align: middle;\n",
       "    }\n",
       "\n",
       "    .dataframe tbody tr th {\n",
       "        vertical-align: top;\n",
       "    }\n",
       "\n",
       "    .dataframe thead th {\n",
       "        text-align: right;\n",
       "    }\n",
       "</style>\n",
       "<table border=\"1\" class=\"dataframe\">\n",
       "  <thead>\n",
       "    <tr style=\"text-align: right;\">\n",
       "      <th></th>\n",
       "      <th>Model</th>\n",
       "      <th>Company</th>\n",
       "      <th>Price</th>\n",
       "      <th>Rating</th>\n",
       "      <th>No_of_ratings</th>\n",
       "      <th>TotalReviews</th>\n",
       "      <th>RamSize (GB)</th>\n",
       "      <th>RomSize (GB)</th>\n",
       "      <th>aug_model</th>\n",
       "      <th>aug_color</th>\n",
       "      <th>aug_price</th>\n",
       "    </tr>\n",
       "  </thead>\n",
       "  <tbody>\n",
       "    <tr>\n",
       "      <th>0</th>\n",
       "      <td>Infinix HOT 20 Play (Luna Blue, 64 GB)</td>\n",
       "      <td>Infinix</td>\n",
       "      <td>8199</td>\n",
       "      <td>4.3</td>\n",
       "      <td>505</td>\n",
       "      <td>52</td>\n",
       "      <td>4.0</td>\n",
       "      <td>64.0</td>\n",
       "      <td>HOT 20 Play</td>\n",
       "      <td>Luna Blue</td>\n",
       "      <td>Medium</td>\n",
       "    </tr>\n",
       "    <tr>\n",
       "      <th>1</th>\n",
       "      <td>MOTOROLA e40 (Carbon Gray, 64 GB)</td>\n",
       "      <td>Motorola</td>\n",
       "      <td>7999</td>\n",
       "      <td>4.1</td>\n",
       "      <td>56085</td>\n",
       "      <td>5600</td>\n",
       "      <td>4.0</td>\n",
       "      <td>64.0</td>\n",
       "      <td>e40</td>\n",
       "      <td>Carbon Gray</td>\n",
       "      <td>Medium</td>\n",
       "    </tr>\n",
       "    <tr>\n",
       "      <th>2</th>\n",
       "      <td>MOTOROLA e40 (Pink Clay, 64 GB)</td>\n",
       "      <td>Motorola</td>\n",
       "      <td>7999</td>\n",
       "      <td>4.1</td>\n",
       "      <td>56085</td>\n",
       "      <td>5600</td>\n",
       "      <td>4.0</td>\n",
       "      <td>64.0</td>\n",
       "      <td>e40</td>\n",
       "      <td>Pink Clay</td>\n",
       "      <td>Medium</td>\n",
       "    </tr>\n",
       "    <tr>\n",
       "      <th>3</th>\n",
       "      <td>POCO C31 (Shadow Gray, 64 GB)</td>\n",
       "      <td>Poco</td>\n",
       "      <td>7499</td>\n",
       "      <td>4.3</td>\n",
       "      <td>183688</td>\n",
       "      <td>11185</td>\n",
       "      <td>4.0</td>\n",
       "      <td>64.0</td>\n",
       "      <td>C31</td>\n",
       "      <td>Shadow Gray</td>\n",
       "      <td>Low</td>\n",
       "    </tr>\n",
       "    <tr>\n",
       "      <th>4</th>\n",
       "      <td>MOTOROLA G32 (Mineral Gray, 64 GB)</td>\n",
       "      <td>Motorola</td>\n",
       "      <td>9999</td>\n",
       "      <td>4.2</td>\n",
       "      <td>16249</td>\n",
       "      <td>1639</td>\n",
       "      <td>4.0</td>\n",
       "      <td>64.0</td>\n",
       "      <td>G32</td>\n",
       "      <td>Mineral Gray</td>\n",
       "      <td>Medium</td>\n",
       "    </tr>\n",
       "    <tr>\n",
       "      <th>...</th>\n",
       "      <td>...</td>\n",
       "      <td>...</td>\n",
       "      <td>...</td>\n",
       "      <td>...</td>\n",
       "      <td>...</td>\n",
       "      <td>...</td>\n",
       "      <td>...</td>\n",
       "      <td>...</td>\n",
       "      <td>...</td>\n",
       "      <td>...</td>\n",
       "      <td>...</td>\n",
       "    </tr>\n",
       "    <tr>\n",
       "      <th>525</th>\n",
       "      <td>SAMSUNG M53 5G (Deep Ocean Blue, 128 GB)</td>\n",
       "      <td>Samsung</td>\n",
       "      <td>26999</td>\n",
       "      <td>4.0</td>\n",
       "      <td>167</td>\n",
       "      <td>13</td>\n",
       "      <td>8.0</td>\n",
       "      <td>128.0</td>\n",
       "      <td>M53 5G</td>\n",
       "      <td>Deep Ocean Blue</td>\n",
       "      <td>High</td>\n",
       "    </tr>\n",
       "    <tr>\n",
       "      <th>526</th>\n",
       "      <td>OPPO A54 (Starry Blue, 64 GB)</td>\n",
       "      <td>Oppo</td>\n",
       "      <td>11949</td>\n",
       "      <td>4.4</td>\n",
       "      <td>10827</td>\n",
       "      <td>670</td>\n",
       "      <td>4.0</td>\n",
       "      <td>64.0</td>\n",
       "      <td>A54</td>\n",
       "      <td>Starry Blue</td>\n",
       "      <td>Medium</td>\n",
       "    </tr>\n",
       "    <tr>\n",
       "      <th>527</th>\n",
       "      <td>LAVA Z2 (Flame Red, 32 GB)</td>\n",
       "      <td>Lava</td>\n",
       "      <td>7999</td>\n",
       "      <td>4.1</td>\n",
       "      <td>330</td>\n",
       "      <td>57</td>\n",
       "      <td>3.0</td>\n",
       "      <td>32.0</td>\n",
       "      <td>Z2</td>\n",
       "      <td>Flame Red</td>\n",
       "      <td>Medium</td>\n",
       "    </tr>\n",
       "    <tr>\n",
       "      <th>528</th>\n",
       "      <td>POCO F1 (Rosso Red, 64 GB)</td>\n",
       "      <td>Poco</td>\n",
       "      <td>21999</td>\n",
       "      <td>4.5</td>\n",
       "      <td>244098</td>\n",
       "      <td>30034</td>\n",
       "      <td>6.0</td>\n",
       "      <td>64.0</td>\n",
       "      <td>F1</td>\n",
       "      <td>Rosso Red</td>\n",
       "      <td>High</td>\n",
       "    </tr>\n",
       "    <tr>\n",
       "      <th>529</th>\n",
       "      <td>OPPO A54 (Starry Blue, 128 GB)</td>\n",
       "      <td>Oppo</td>\n",
       "      <td>15990</td>\n",
       "      <td>4.3</td>\n",
       "      <td>4016</td>\n",
       "      <td>228</td>\n",
       "      <td>6.0</td>\n",
       "      <td>128.0</td>\n",
       "      <td>A54</td>\n",
       "      <td>Starry Blue</td>\n",
       "      <td>High</td>\n",
       "    </tr>\n",
       "  </tbody>\n",
       "</table>\n",
       "<p>525 rows × 11 columns</p>\n",
       "</div>"
      ],
      "text/plain": [
       "                                        Model   Company  Price  Rating  \\\n",
       "0      Infinix HOT 20 Play (Luna Blue, 64 GB)   Infinix   8199     4.3   \n",
       "1           MOTOROLA e40 (Carbon Gray, 64 GB)  Motorola   7999     4.1   \n",
       "2             MOTOROLA e40 (Pink Clay, 64 GB)  Motorola   7999     4.1   \n",
       "3               POCO C31 (Shadow Gray, 64 GB)      Poco   7499     4.3   \n",
       "4          MOTOROLA G32 (Mineral Gray, 64 GB)  Motorola   9999     4.2   \n",
       "..                                        ...       ...    ...     ...   \n",
       "525  SAMSUNG M53 5G (Deep Ocean Blue, 128 GB)   Samsung  26999     4.0   \n",
       "526             OPPO A54 (Starry Blue, 64 GB)      Oppo  11949     4.4   \n",
       "527                LAVA Z2 (Flame Red, 32 GB)      Lava   7999     4.1   \n",
       "528                POCO F1 (Rosso Red, 64 GB)      Poco  21999     4.5   \n",
       "529            OPPO A54 (Starry Blue, 128 GB)      Oppo  15990     4.3   \n",
       "\n",
       "     No_of_ratings  TotalReviews  RamSize (GB)  RomSize (GB)     aug_model  \\\n",
       "0              505            52           4.0          64.0  HOT 20 Play    \n",
       "1            56085          5600           4.0          64.0          e40    \n",
       "2            56085          5600           4.0          64.0          e40    \n",
       "3           183688         11185           4.0          64.0          C31    \n",
       "4            16249          1639           4.0          64.0          G32    \n",
       "..             ...           ...           ...           ...           ...   \n",
       "525            167            13           8.0         128.0       M53 5G    \n",
       "526          10827           670           4.0          64.0          A54    \n",
       "527            330            57           3.0          32.0           Z2    \n",
       "528         244098         30034           6.0          64.0           F1    \n",
       "529           4016           228           6.0         128.0          A54    \n",
       "\n",
       "           aug_color aug_price  \n",
       "0          Luna Blue    Medium  \n",
       "1        Carbon Gray    Medium  \n",
       "2          Pink Clay    Medium  \n",
       "3        Shadow Gray       Low  \n",
       "4       Mineral Gray    Medium  \n",
       "..               ...       ...  \n",
       "525  Deep Ocean Blue      High  \n",
       "526      Starry Blue    Medium  \n",
       "527        Flame Red    Medium  \n",
       "528        Rosso Red      High  \n",
       "529      Starry Blue      High  \n",
       "\n",
       "[525 rows x 11 columns]"
      ]
     },
     "execution_count": 1,
     "metadata": {},
     "output_type": "execute_result"
    }
   ],
   "source": [
    "import pandas as pd\n",
    "data = pd.read_csv('./Updated_Mobile_Dataset.csv')\n",
    "\n",
    "def map_to_cat(price):\n",
    "    if price < 7500:\n",
    "        return 'Low'\n",
    "    elif 7500 <= price < 15000:\n",
    "        return 'Medium'\n",
    "    elif 15000 <= price < 30000:\n",
    "        return 'High'\n",
    "    elif price >= 30000:\n",
    "        return 'Very high'\n",
    "\n",
    "aug_model = data['Model'].copy()\n",
    "aug_color = [None]*len(aug_model)\n",
    "aug_price_category = [None]*len(aug_model)\n",
    "for i,r in data.iterrows():\n",
    "    aug_model[i] = str(aug_model[i]).replace(r['Company'], '').strip()\n",
    "    aug_price_category[i] = map_to_cat(r['Price'])\n",
    "    if (r['Model'].find(',') != -1) and (r['Model'].find('(') != -1):\n",
    "        aug_color[i] = aug_model[i].split('(')[1].split(',')[0]\n",
    "        aug_model[i] = aug_model[i].split('(')[0]\n",
    "\n",
    "data['aug_model'] = aug_model\n",
    "data['aug_color'] = aug_color\n",
    "data['aug_price'] = aug_price_category\n",
    "\n",
    "data = data.drop_duplicates().reset_index(drop=True)\n",
    "data = data[data['Company'] != 'Nothing']\n",
    "data['Company'] = data['Company'].str.capitalize()\n",
    "\n",
    "data = data.dropna()\n",
    "data['RamSize'] = data['RamSize'].apply(lambda e: e.split(' ')[0])\n",
    "data['RomSize'] = data['RomSize'].apply(lambda e: e.split(' ')[0])\n",
    "data = data[data['RomSize'] != 'Not']\n",
    "data['RamSize'] = data['RamSize'].astype(float)\n",
    "data['RomSize'] = data['RomSize'].astype(float)\n",
    "data = data.rename(columns={ 'RamSize'      : 'RamSize (GB)',  \n",
    "                             'RomSize'      : 'RomSize (GB)',\n",
    "                             'TotalReviwes' : 'TotalReviews'\n",
    "                           }).reset_index(drop=True)\n",
    "\n",
    "data = data[(data['Price'] != 84999) & (data['Price'] != 59999)]\n",
    "\n",
    "data.to_csv('augmented_dataset.csv', index=False)\n",
    "data"
   ]
  },
  {
   "cell_type": "code",
   "execution_count": 2,
   "id": "7afebcfe",
   "metadata": {},
   "outputs": [],
   "source": [
    "cat_columns = ['Model', 'Company', 'aug_model', 'aug_color', 'aug_price']\n",
    "\n",
    "from sklearn.preprocessing import StandardScaler\n",
    "scale = StandardScaler()\n",
    "\n",
    "df_vals_only = data.drop(columns=cat_columns)\n",
    "df_vals_only.to_csv('./vals_only.csv', index=False)\n",
    "df_scaled = scale.fit_transform(df_vals_only)\n",
    "df_scaled = pd.DataFrame(df_scaled) \n",
    "df_scaled.columns = [df_vals_only[:0]]"
   ]
  },
  {
   "cell_type": "code",
   "execution_count": 3,
   "id": "94443208",
   "metadata": {},
   "outputs": [
    {
     "data": {
      "image/png": "[encoded data removed]",
      "text/plain": [
       "<Figure size 640x480 with 2 Axes>"
      ]
     },
     "metadata": {},
     "output_type": "display_data"
    }
   ],
   "source": [
    "%matplotlib inline\n",
    "import seaborn as sns\n",
    "import matplotlib.pyplot as plt\n",
    "\n",
    "sns.heatmap(df_scaled.corr(), annot=True)\n",
    "plt.show()"
   ]
  },
  {
   "cell_type": "code",
   "execution_count": 40,
   "id": "1c369842",
   "metadata": {},
   "outputs": [
    {
     "data": {
      "application/vnd.plotly.v1+json": {
       "config": {
        "plotlyServerURL": "https://plot.ly"
       },
       "data": [
        {
         "alignmentgroup": "True",
         "boxpoints": "all",
         "hovertemplate": "Price=%{y}<extra></extra>",
         "legendgroup": "",
         "marker": {
          "color": "#636efa"
         },
         "name": "",
         "notched": false,
         "offsetgroup": "",
         "orientation": "v",
         "showlegend": false,
         "type": "box",
         "x0": " ",
         "xaxis": "x",
         "y": [
          8199,
          7999,
          7999,
          7499,
          9999,
          7199,
          7199,
          11999,
          16499,
          14999,
          14999,
          14999,
          13999,
          12999,
          16499,
          13999,
          16499,
          14999,
          12999,
          14999,
          16990,
          9999,
          14999,
          10999,
          16499,
          8199,
          8199,
          8199,
          16990,
          15990,
          16998,
          9999,
          9999,
          7499,
          13999,
          11999,
          11999,
          11999,
          13999,
          18999,
          13999,
          15990,
          5799,
          9499,
          5799,
          12599,
          12999,
          12999,
          8899,
          8899,
          5799,
          9999,
          13599,
          12599,
          14499,
          14499,
          10999,
          14999,
          11999,
          20499,
          14999,
          16499,
          7599,
          15999,
          15999,
          18999,
          19999,
          8899,
          12999,
          14599,
          14599,
          14599,
          18999,
          14999,
          16990,
          14999,
          7199,
          12999,
          20499,
          9999,
          16999,
          5999,
          5999,
          12999,
          19999,
          14999,
          11999,
          35999,
          15499,
          13990,
          15599,
          13990,
          11999,
          9999,
          12999,
          24999,
          9999,
          9999,
          6999,
          6999,
          14999,
          19990,
          14999,
          5999,
          24999,
          6490,
          17999,
          12999,
          8999,
          16499,
          11999,
          8690,
          10490,
          11999,
          8746,
          17999,
          13999,
          7890,
          8649,
          8299,
          14999,
          12999,
          11999,
          6499,
          9444,
          16499,
          19999,
          9999,
          11999,
          19999,
          11999,
          19990,
          6499,
          6499,
          9499,
          8999,
          9299,
          17999,
          19999,
          12999,
          16999,
          11999,
          13999,
          5499,
          13999,
          16999,
          14988,
          6999,
          23999,
          12999,
          35999,
          15999,
          6499,
          12999,
          11999,
          8999,
          7499,
          17999,
          8999,
          8999,
          7299,
          14999,
          8699,
          8699,
          8699,
          8699,
          6335,
          14999,
          14999,
          14999,
          10499,
          9999,
          21999,
          8488,
          7990,
          8985,
          13999,
          11999,
          11999,
          34999,
          5499,
          5499,
          16999,
          21999,
          9999,
          9999,
          9999,
          15999,
          15490,
          16998,
          15999,
          15490,
          29999,
          25999,
          10447,
          22999,
          16299,
          21499,
          6920,
          13999,
          13999,
          17999,
          9995,
          11999,
          11099,
          5999,
          12826,
          7014,
          9999,
          7499,
          11990,
          10955,
          13958,
          10949,
          29999,
          11499,
          12999,
          16990,
          8579,
          19698,
          14699,
          8479,
          11499,
          19298,
          19990,
          17999,
          17999,
          7999,
          8999,
          30199,
          7999,
          23499,
          21499,
          23499,
          25499,
          12999,
          15399,
          10499,
          24999,
          18300,
          13999,
          13999,
          24998,
          24999,
          14999,
          19999,
          19999,
          7499,
          8999,
          8999,
          8999,
          2450,
          9499,
          24830,
          11499,
          17990,
          30329,
          10999,
          11999,
          14838,
          19722,
          16990,
          10999,
          5766,
          11490,
          22999,
          22999,
          7499,
          12990,
          15829,
          10999,
          16999,
          12990,
          23999,
          16999,
          9948,
          12999,
          15499,
          19900,
          25499,
          10999,
          11999,
          20295,
          10417,
          16499,
          8998,
          5699,
          9999,
          9189,
          29999,
          29999,
          6485,
          18499,
          17490,
          11999,
          12999,
          13949,
          21999,
          13999,
          17999,
          20999,
          8849,
          16700,
          6789,
          14888,
          20999,
          16999,
          17830,
          11499,
          7499,
          13999,
          13999,
          11499,
          41999,
          39990,
          13499,
          14990,
          8091,
          17999,
          11570,
          11797,
          17999,
          16480,
          9499,
          17489,
          34998,
          13400,
          16698,
          13490,
          18499,
          18999,
          12520,
          17480,
          16499,
          28999,
          39999,
          13849,
          34466,
          23300,
          24999,
          31999,
          15899,
          19974,
          11999,
          11480,
          12990,
          10499,
          15999,
          6348,
          6458,
          6305,
          10955,
          9370,
          10999,
          9999,
          18999,
          15499,
          24790,
          16499,
          11499,
          12845,
          13499,
          13499,
          6999,
          14960,
          13444,
          19990,
          20459,
          15499,
          5289,
          7499,
          11499,
          7199,
          12950,
          9999,
          9990,
          9499,
          16999,
          15999,
          17999,
          11978,
          13499,
          11499,
          13999,
          25999,
          8999,
          6929,
          9445,
          13499,
          14499,
          13490,
          13959,
          12889,
          7789,
          39999,
          17099,
          22997,
          6999,
          7499,
          12990,
          10999,
          24999,
          18999,
          19999,
          10999,
          11999,
          13490,
          14449,
          7199,
          16999,
          11999,
          16499,
          12489,
          15995,
          19490,
          19989,
          14780,
          14990,
          28999,
          39999,
          9990,
          9990,
          13990,
          24999,
          9990,
          7999,
          13999,
          5299,
          14999,
          10999,
          9499,
          14849,
          10990,
          17399,
          12490,
          15490,
          25999,
          16499,
          14989,
          11999,
          10999,
          20199,
          12990,
          15183,
          9295,
          11999,
          15000,
          8299,
          14490,
          15884,
          5889,
          13999,
          16999,
          24790,
          16999,
          9798,
          13880,
          13955,
          13999,
          15185,
          24445,
          16900,
          35999,
          9990,
          8999,
          17999,
          34889,
          19999,
          27999,
          7789,
          38302,
          14399,
          12990,
          35599,
          20199,
          15499,
          16499,
          12999,
          13999,
          11999,
          15499,
          12489,
          10999,
          21989,
          10999,
          18499,
          14999,
          11999,
          34999,
          16499,
          13996,
          12499,
          15880,
          10499,
          7397,
          8998,
          7799,
          14499,
          17980,
          8999,
          14100,
          20464,
          7970,
          13899,
          13999,
          14489,
          19999,
          19999,
          38653,
          6887,
          17499,
          14379,
          16799,
          9499,
          13999,
          15999,
          13999,
          27999,
          18499,
          6489,
          26999,
          11949,
          7999,
          21999,
          15990
         ],
         "y0": " ",
         "yaxis": "y"
        }
       ],
       "layout": {
        "boxmode": "group",
        "legend": {
         "tracegroupgap": 0
        },
        "margin": {
         "t": 60
        },
        "template": {
         "data": {
          "bar": [
           {
            "error_x": {
             "color": "#2a3f5f"
            },
            "error_y": {
             "color": "#2a3f5f"
            },
            "marker": {
             "line": {
              "color": "#E5ECF6",
              "width": 0.5
             },
             "pattern": {
              "fillmode": "overlay",
              "size": 10,
              "solidity": 0.2
             }
            },
            "type": "bar"
           }
          ],
          "barpolar": [
           {
            "marker": {
             "line": {
              "color": "#E5ECF6",
              "width": 0.5
             },
             "pattern": {
              "fillmode": "overlay",
              "size": 10,
              "solidity": 0.2
             }
            },
            "type": "barpolar"
           }
          ],
          "carpet": [
           {
            "aaxis": {
             "endlinecolor": "#2a3f5f",
             "gridcolor": "white",
             "linecolor": "white",
             "minorgridcolor": "white",
             "startlinecolor": "#2a3f5f"
            },
            "baxis": {
             "endlinecolor": "#2a3f5f",
             "gridcolor": "white",
             "linecolor": "white",
             "minorgridcolor": "white",
             "startlinecolor": "#2a3f5f"
            },
            "type": "carpet"
           }
          ],
          "choropleth": [
           {
            "colorbar": {
             "outlinewidth": 0,
             "ticks": ""
            },
            "type": "choropleth"
           }
          ],
          "contour": [
           {
            "colorbar": {
             "outlinewidth": 0,
             "ticks": ""
            },
            "colorscale": [
             [
              0,
              "#0d0887"
             ],
             [
              0.1111111111111111,
              "#46039f"
             ],
             [
              0.2222222222222222,
              "#7201a8"
             ],
             [
              0.3333333333333333,
              "#9c179e"
             ],
             [
              0.4444444444444444,
              "#bd3786"
             ],
             [
              0.5555555555555556,
              "#d8576b"
             ],
             [
              0.6666666666666666,
              "#ed7953"
             ],
             [
              0.7777777777777778,
              "#fb9f3a"
             ],
             [
              0.8888888888888888,
              "#fdca26"
             ],
             [
              1,
              "#f0f921"
             ]
            ],
            "type": "contour"
           }
          ],
          "contourcarpet": [
           {
            "colorbar": {
             "outlinewidth": 0,
             "ticks": ""
            },
            "type": "contourcarpet"
           }
          ],
          "heatmap": [
           {
            "colorbar": {
             "outlinewidth": 0,
             "ticks": ""
            },
            "colorscale": [
             [
              0,
              "#0d0887"
             ],
             [
              0.1111111111111111,
              "#46039f"
             ],
             [
              0.2222222222222222,
              "#7201a8"
             ],
             [
              0.3333333333333333,
              "#9c179e"
             ],
             [
              0.4444444444444444,
              "#bd3786"
             ],
             [
              0.5555555555555556,
              "#d8576b"
             ],
             [
              0.6666666666666666,
              "#ed7953"
             ],
             [
              0.7777777777777778,
              "#fb9f3a"
             ],
             [
              0.8888888888888888,
              "#fdca26"
             ],
             [
              1,
              "#f0f921"
             ]
            ],
            "type": "heatmap"
           }
          ],
          "heatmapgl": [
           {
            "colorbar": {
             "outlinewidth": 0,
             "ticks": ""
            },
            "colorscale": [
             [
              0,
              "#0d0887"
             ],
             [
              0.1111111111111111,
              "#46039f"
             ],
             [
              0.2222222222222222,
              "#7201a8"
             ],
             [
              0.3333333333333333,
              "#9c179e"
             ],
             [
              0.4444444444444444,
              "#bd3786"
             ],
             [
              0.5555555555555556,
              "#d8576b"
             ],
             [
              0.6666666666666666,
              "#ed7953"
             ],
             [
              0.7777777777777778,
              "#fb9f3a"
             ],
             [
              0.8888888888888888,
              "#fdca26"
             ],
             [
              1,
              "#f0f921"
             ]
            ],
            "type": "heatmapgl"
           }
          ],
          "histogram": [
           {
            "marker": {
             "pattern": {
              "fillmode": "overlay",
              "size": 10,
              "solidity": 0.2
             }
            },
            "type": "histogram"
           }
          ],
          "histogram2d": [
           {
            "colorbar": {
             "outlinewidth": 0,
             "ticks": ""
            },
            "colorscale": [
             [
              0,
              "#0d0887"
             ],
             [
              0.1111111111111111,
              "#46039f"
             ],
             [
              0.2222222222222222,
              "#7201a8"
             ],
             [
              0.3333333333333333,
              "#9c179e"
             ],
             [
              0.4444444444444444,
              "#bd3786"
             ],
             [
              0.5555555555555556,
              "#d8576b"
             ],
             [
              0.6666666666666666,
              "#ed7953"
             ],
             [
              0.7777777777777778,
              "#fb9f3a"
             ],
             [
              0.8888888888888888,
              "#fdca26"
             ],
             [
              1,
              "#f0f921"
             ]
            ],
            "type": "histogram2d"
           }
          ],
          "histogram2dcontour": [
           {
            "colorbar": {
             "outlinewidth": 0,
             "ticks": ""
            },
            "colorscale": [
             [
              0,
              "#0d0887"
             ],
             [
              0.1111111111111111,
              "#46039f"
             ],
             [
              0.2222222222222222,
              "#7201a8"
             ],
             [
              0.3333333333333333,
              "#9c179e"
             ],
             [
              0.4444444444444444,
              "#bd3786"
             ],
             [
              0.5555555555555556,
              "#d8576b"
             ],
             [
              0.6666666666666666,
              "#ed7953"
             ],
             [
              0.7777777777777778,
              "#fb9f3a"
             ],
             [
              0.8888888888888888,
              "#fdca26"
             ],
             [
              1,
              "#f0f921"
             ]
            ],
            "type": "histogram2dcontour"
           }
          ],
          "mesh3d": [
           {
            "colorbar": {
             "outlinewidth": 0,
             "ticks": ""
            },
            "type": "mesh3d"
           }
          ],
          "parcoords": [
           {
            "line": {
             "colorbar": {
              "outlinewidth": 0,
              "ticks": ""
             }
            },
            "type": "parcoords"
           }
          ],
          "pie": [
           {
            "automargin": true,
            "type": "pie"
           }
          ],
          "scatter": [
           {
            "fillpattern": {
             "fillmode": "overlay",
             "size": 10,
             "solidity": 0.2
            },
            "type": "scatter"
           }
          ],
          "scatter3d": [
           {
            "line": {
             "colorbar": {
              "outlinewidth": 0,
              "ticks": ""
             }
            },
            "marker": {
             "colorbar": {
              "outlinewidth": 0,
              "ticks": ""
             }
            },
            "type": "scatter3d"
           }
          ],
          "scattercarpet": [
           {
            "marker": {
             "colorbar": {
              "outlinewidth": 0,
              "ticks": ""
             }
            },
            "type": "scattercarpet"
           }
          ],
          "scattergeo": [
           {
            "marker": {
             "colorbar": {
              "outlinewidth": 0,
              "ticks": ""
             }
            },
            "type": "scattergeo"
           }
          ],
          "scattergl": [
           {
            "marker": {
             "colorbar": {
              "outlinewidth": 0,
              "ticks": ""
             }
            },
            "type": "scattergl"
           }
          ],
          "scattermapbox": [
           {
            "marker": {
             "colorbar": {
              "outlinewidth": 0,
              "ticks": ""
             }
            },
            "type": "scattermapbox"
           }
          ],
          "scatterpolar": [
           {
            "marker": {
             "colorbar": {
              "outlinewidth": 0,
              "ticks": ""
             }
            },
            "type": "scatterpolar"
           }
          ],
          "scatterpolargl": [
           {
            "marker": {
             "colorbar": {
              "outlinewidth": 0,
              "ticks": ""
             }
            },
            "type": "scatterpolargl"
           }
          ],
          "scatterternary": [
           {
            "marker": {
             "colorbar": {
              "outlinewidth": 0,
              "ticks": ""
             }
            },
            "type": "scatterternary"
           }
          ],
          "surface": [
           {
            "colorbar": {
             "outlinewidth": 0,
             "ticks": ""
            },
            "colorscale": [
             [
              0,
              "#0d0887"
             ],
             [
              0.1111111111111111,
              "#46039f"
             ],
             [
              0.2222222222222222,
              "#7201a8"
             ],
             [
              0.3333333333333333,
              "#9c179e"
             ],
             [
              0.4444444444444444,
              "#bd3786"
             ],
             [
              0.5555555555555556,
              "#d8576b"
             ],
             [
              0.6666666666666666,
              "#ed7953"
             ],
             [
              0.7777777777777778,
              "#fb9f3a"
             ],
             [
              0.8888888888888888,
              "#fdca26"
             ],
             [
              1,
              "#f0f921"
             ]
            ],
            "type": "surface"
           }
          ],
          "table": [
           {
            "cells": {
             "fill": {
              "color": "#EBF0F8"
             },
             "line": {
              "color": "white"
             }
            },
            "header": {
             "fill": {
              "color": "#C8D4E3"
             },
             "line": {
              "color": "white"
             }
            },
            "type": "table"
           }
          ]
         },
         "layout": {
          "annotationdefaults": {
           "arrowcolor": "#2a3f5f",
           "arrowhead": 0,
           "arrowwidth": 1
          },
          "autotypenumbers": "strict",
          "coloraxis": {
           "colorbar": {
            "outlinewidth": 0,
            "ticks": ""
           }
          },
          "colorscale": {
           "diverging": [
            [
             0,
             "#8e0152"
            ],
            [
             0.1,
             "#c51b7d"
            ],
            [
             0.2,
             "#de77ae"
            ],
            [
             0.3,
             "#f1b6da"
            ],
            [
             0.4,
             "#fde0ef"
            ],
            [
             0.5,
             "#f7f7f7"
            ],
            [
             0.6,
             "#e6f5d0"
            ],
            [
             0.7,
             "#b8e186"
            ],
            [
             0.8,
             "#7fbc41"
            ],
            [
             0.9,
             "#4d9221"
            ],
            [
             1,
             "#276419"
            ]
           ],
           "sequential": [
            [
             0,
             "#0d0887"
            ],
            [
             0.1111111111111111,
             "#46039f"
            ],
            [
             0.2222222222222222,
             "#7201a8"
            ],
            [
             0.3333333333333333,
             "#9c179e"
            ],
            [
             0.4444444444444444,
             "#bd3786"
            ],
            [
             0.5555555555555556,
             "#d8576b"
            ],
            [
             0.6666666666666666,
             "#ed7953"
            ],
            [
             0.7777777777777778,
             "#fb9f3a"
            ],
            [
             0.8888888888888888,
             "#fdca26"
            ],
            [
             1,
             "#f0f921"
            ]
           ],
           "sequentialminus": [
            [
             0,
             "#0d0887"
            ],
            [
             0.1111111111111111,
             "#46039f"
            ],
            [
             0.2222222222222222,
             "#7201a8"
            ],
            [
             0.3333333333333333,
             "#9c179e"
            ],
            [
             0.4444444444444444,
             "#bd3786"
            ],
            [
             0.5555555555555556,
             "#d8576b"
            ],
            [
             0.6666666666666666,
             "#ed7953"
            ],
            [
             0.7777777777777778,
             "#fb9f3a"
            ],
            [
             0.8888888888888888,
             "#fdca26"
            ],
            [
             1,
             "#f0f921"
            ]
           ]
          },
          "colorway": [
           "#636efa",
           "#EF553B",
           "#00cc96",
           "#ab63fa",
           "#FFA15A",
           "#19d3f3",
           "#FF6692",
           "#B6E880",
           "#FF97FF",
           "#FECB52"
          ],
          "font": {
           "color": "#2a3f5f"
          },
          "geo": {
           "bgcolor": "white",
           "lakecolor": "white",
           "landcolor": "#E5ECF6",
           "showlakes": true,
           "showland": true,
           "subunitcolor": "white"
          },
          "hoverlabel": {
           "align": "left"
          },
          "hovermode": "closest",
          "mapbox": {
           "style": "light"
          },
          "paper_bgcolor": "white",
          "plot_bgcolor": "#E5ECF6",
          "polar": {
           "angularaxis": {
            "gridcolor": "white",
            "linecolor": "white",
            "ticks": ""
           },
           "bgcolor": "#E5ECF6",
           "radialaxis": {
            "gridcolor": "white",
            "linecolor": "white",
            "ticks": ""
           }
          },
          "scene": {
           "xaxis": {
            "backgroundcolor": "#E5ECF6",
            "gridcolor": "white",
            "gridwidth": 2,
            "linecolor": "white",
            "showbackground": true,
            "ticks": "",
            "zerolinecolor": "white"
           },
           "yaxis": {
            "backgroundcolor": "#E5ECF6",
            "gridcolor": "white",
            "gridwidth": 2,
            "linecolor": "white",
            "showbackground": true,
            "ticks": "",
            "zerolinecolor": "white"
           },
           "zaxis": {
            "backgroundcolor": "#E5ECF6",
            "gridcolor": "white",
            "gridwidth": 2,
            "linecolor": "white",
            "showbackground": true,
            "ticks": "",
            "zerolinecolor": "white"
           }
          },
          "shapedefaults": {
           "line": {
            "color": "#2a3f5f"
           }
          },
          "ternary": {
           "aaxis": {
            "gridcolor": "white",
            "linecolor": "white",
            "ticks": ""
           },
           "baxis": {
            "gridcolor": "white",
            "linecolor": "white",
            "ticks": ""
           },
           "bgcolor": "#E5ECF6",
           "caxis": {
            "gridcolor": "white",
            "linecolor": "white",
            "ticks": ""
           }
          },
          "title": {
           "x": 0.05
          },
          "xaxis": {
           "automargin": true,
           "gridcolor": "white",
           "linecolor": "white",
           "ticks": "",
           "title": {
            "standoff": 15
           },
           "zerolinecolor": "white",
           "zerolinewidth": 2
          },
          "yaxis": {
           "automargin": true,
           "gridcolor": "white",
           "linecolor": "white",
           "ticks": "",
           "title": {
            "standoff": 15
           },
           "zerolinecolor": "white",
           "zerolinewidth": 2
          }
         }
        },
        "xaxis": {
         "anchor": "y",
         "domain": [
          0,
          1
         ]
        },
        "yaxis": {
         "anchor": "x",
         "domain": [
          0,
          1
         ],
         "title": {
          "text": "Price"
         }
        }
       }
      },
      "text/html": [
       "<div>                            <div id=\"f18b29ec-68f6-4865-b601-f01b4e49fbab\" class=\"plotly-graph-div\" style=\"height:525px; width:100%;\"></div>            <script type=\"text/javascript\">                require([\"plotly\"], function(Plotly) {                    window.PLOTLYENV=window.PLOTLYENV || {};                                    if (document.getElementById(\"f18b29ec-68f6-4865-b601-f01b4e49fbab\")) {                    Plotly.newPlot(                        \"f18b29ec-68f6-4865-b601-f01b4e49fbab\",                        [{\"alignmentgroup\":\"True\",\"boxpoints\":\"all\",\"hovertemplate\":\"Price=%{y}<extra></extra>\",\"legendgroup\":\"\",\"marker\":{\"color\":\"#636efa\"},\"name\":\"\",\"notched\":false,\"offsetgroup\":\"\",\"orientation\":\"v\",\"showlegend\":false,\"x0\":\" \",\"xaxis\":\"x\",\"y\":[8199,7999,7999,7499,9999,7199,7199,11999,16499,14999,14999,14999,13999,12999,16499,13999,16499,14999,12999,14999,16990,9999,14999,10999,16499,8199,8199,8199,16990,15990,16998,9999,9999,7499,13999,11999,11999,11999,13999,18999,13999,15990,5799,9499,5799,12599,12999,12999,8899,8899,5799,9999,13599,12599,14499,14499,10999,14999,11999,20499,14999,16499,7599,15999,15999,18999,19999,8899,12999,14599,14599,14599,18999,14999,16990,14999,7199,12999,20499,9999,16999,5999,5999,12999,19999,14999,11999,35999,15499,13990,15599,13990,11999,9999,12999,24999,9999,9999,6999,6999,14999,19990,14999,5999,24999,6490,17999,12999,8999,16499,11999,8690,10490,11999,8746,17999,13999,7890,8649,8299,14999,12999,11999,6499,9444,16499,19999,9999,11999,19999,11999,19990,6499,6499,9499,8999,9299,17999,19999,12999,16999,11999,13999,5499,13999,16999,14988,6999,23999,12999,35999,15999,6499,12999,11999,8999,7499,17999,8999,8999,7299,14999,8699,8699,8699,8699,6335,14999,14999,14999,10499,9999,21999,8488,7990,8985,13999,11999,11999,34999,5499,5499,16999,21999,9999,9999,9999,15999,15490,16998,15999,15490,29999,25999,10447,22999,16299,21499,6920,13999,13999,17999,9995,11999,11099,5999,12826,7014,9999,7499,11990,10955,13958,10949,29999,11499,12999,16990,8579,19698,14699,8479,11499,19298,19990,17999,17999,7999,8999,30199,7999,23499,21499,23499,25499,12999,15399,10499,24999,18300,13999,13999,24998,24999,14999,19999,19999,7499,8999,8999,8999,2450,9499,24830,11499,17990,30329,10999,11999,14838,19722,16990,10999,5766,11490,22999,22999,7499,12990,15829,10999,16999,12990,23999,16999,9948,12999,15499,19900,25499,10999,11999,20295,10417,16499,8998,5699,9999,9189,29999,29999,6485,18499,17490,11999,12999,13949,21999,13999,17999,20999,8849,16700,6789,14888,20999,16999,17830,11499,7499,13999,13999,11499,41999,39990,13499,14990,8091,17999,11570,11797,17999,16480,9499,17489,34998,13400,16698,13490,18499,18999,12520,17480,16499,28999,39999,13849,34466,23300,24999,31999,15899,19974,11999,11480,12990,10499,15999,6348,6458,6305,10955,9370,10999,9999,18999,15499,24790,16499,11499,12845,13499,13499,6999,14960,13444,19990,20459,15499,5289,7499,11499,7199,12950,9999,9990,9499,16999,15999,17999,11978,13499,11499,13999,25999,8999,6929,9445,13499,14499,13490,13959,12889,7789,39999,17099,22997,6999,7499,12990,10999,24999,18999,19999,10999,11999,13490,14449,7199,16999,11999,16499,12489,15995,19490,19989,14780,14990,28999,39999,9990,9990,13990,24999,9990,7999,13999,5299,14999,10999,9499,14849,10990,17399,12490,15490,25999,16499,14989,11999,10999,20199,12990,15183,9295,11999,15000,8299,14490,15884,5889,13999,16999,24790,16999,9798,13880,13955,13999,15185,24445,16900,35999,9990,8999,17999,34889,19999,27999,7789,38302,14399,12990,35599,20199,15499,16499,12999,13999,11999,15499,12489,10999,21989,10999,18499,14999,11999,34999,16499,13996,12499,15880,10499,7397,8998,7799,14499,17980,8999,14100,20464,7970,13899,13999,14489,19999,19999,38653,6887,17499,14379,16799,9499,13999,15999,13999,27999,18499,6489,26999,11949,7999,21999,15990],\"y0\":\" \",\"yaxis\":\"y\",\"type\":\"box\"}],                        {\"template\":{\"data\":{\"histogram2dcontour\":[{\"type\":\"histogram2dcontour\",\"colorbar\":{\"outlinewidth\":0,\"ticks\":\"\"},\"colorscale\":[[0.0,\"#0d0887\"],[0.1111111111111111,\"#46039f\"],[0.2222222222222222,\"#7201a8\"],[0.3333333333333333,\"#9c179e\"],[0.4444444444444444,\"#bd3786\"],[0.5555555555555556,\"#d8576b\"],[0.6666666666666666,\"#ed7953\"],[0.7777777777777778,\"#fb9f3a\"],[0.8888888888888888,\"#fdca26\"],[1.0,\"#f0f921\"]]}],\"choropleth\":[{\"type\":\"choropleth\",\"colorbar\":{\"outlinewidth\":0,\"ticks\":\"\"}}],\"histogram2d\":[{\"type\":\"histogram2d\",\"colorbar\":{\"outlinewidth\":0,\"ticks\":\"\"},\"colorscale\":[[0.0,\"#0d0887\"],[0.1111111111111111,\"#46039f\"],[0.2222222222222222,\"#7201a8\"],[0.3333333333333333,\"#9c179e\"],[0.4444444444444444,\"#bd3786\"],[0.5555555555555556,\"#d8576b\"],[0.6666666666666666,\"#ed7953\"],[0.7777777777777778,\"#fb9f3a\"],[0.8888888888888888,\"#fdca26\"],[1.0,\"#f0f921\"]]}],\"heatmap\":[{\"type\":\"heatmap\",\"colorbar\":{\"outlinewidth\":0,\"ticks\":\"\"},\"colorscale\":[[0.0,\"#0d0887\"],[0.1111111111111111,\"#46039f\"],[0.2222222222222222,\"#7201a8\"],[0.3333333333333333,\"#9c179e\"],[0.4444444444444444,\"#bd3786\"],[0.5555555555555556,\"#d8576b\"],[0.6666666666666666,\"#ed7953\"],[0.7777777777777778,\"#fb9f3a\"],[0.8888888888888888,\"#fdca26\"],[1.0,\"#f0f921\"]]}],\"heatmapgl\":[{\"type\":\"heatmapgl\",\"colorbar\":{\"outlinewidth\":0,\"ticks\":\"\"},\"colorscale\":[[0.0,\"#0d0887\"],[0.1111111111111111,\"#46039f\"],[0.2222222222222222,\"#7201a8\"],[0.3333333333333333,\"#9c179e\"],[0.4444444444444444,\"#bd3786\"],[0.5555555555555556,\"#d8576b\"],[0.6666666666666666,\"#ed7953\"],[0.7777777777777778,\"#fb9f3a\"],[0.8888888888888888,\"#fdca26\"],[1.0,\"#f0f921\"]]}],\"contourcarpet\":[{\"type\":\"contourcarpet\",\"colorbar\":{\"outlinewidth\":0,\"ticks\":\"\"}}],\"contour\":[{\"type\":\"contour\",\"colorbar\":{\"outlinewidth\":0,\"ticks\":\"\"},\"colorscale\":[[0.0,\"#0d0887\"],[0.1111111111111111,\"#46039f\"],[0.2222222222222222,\"#7201a8\"],[0.3333333333333333,\"#9c179e\"],[0.4444444444444444,\"#bd3786\"],[0.5555555555555556,\"#d8576b\"],[0.6666666666666666,\"#ed7953\"],[0.7777777777777778,\"#fb9f3a\"],[0.8888888888888888,\"#fdca26\"],[1.0,\"#f0f921\"]]}],\"surface\":[{\"type\":\"surface\",\"colorbar\":{\"outlinewidth\":0,\"ticks\":\"\"},\"colorscale\":[[0.0,\"#0d0887\"],[0.1111111111111111,\"#46039f\"],[0.2222222222222222,\"#7201a8\"],[0.3333333333333333,\"#9c179e\"],[0.4444444444444444,\"#bd3786\"],[0.5555555555555556,\"#d8576b\"],[0.6666666666666666,\"#ed7953\"],[0.7777777777777778,\"#fb9f3a\"],[0.8888888888888888,\"#fdca26\"],[1.0,\"#f0f921\"]]}],\"mesh3d\":[{\"type\":\"mesh3d\",\"colorbar\":{\"outlinewidth\":0,\"ticks\":\"\"}}],\"scatter\":[{\"fillpattern\":{\"fillmode\":\"overlay\",\"size\":10,\"solidity\":0.2},\"type\":\"scatter\"}],\"parcoords\":[{\"type\":\"parcoords\",\"line\":{\"colorbar\":{\"outlinewidth\":0,\"ticks\":\"\"}}}],\"scatterpolargl\":[{\"type\":\"scatterpolargl\",\"marker\":{\"colorbar\":{\"outlinewidth\":0,\"ticks\":\"\"}}}],\"bar\":[{\"error_x\":{\"color\":\"#2a3f5f\"},\"error_y\":{\"color\":\"#2a3f5f\"},\"marker\":{\"line\":{\"color\":\"#E5ECF6\",\"width\":0.5},\"pattern\":{\"fillmode\":\"overlay\",\"size\":10,\"solidity\":0.2}},\"type\":\"bar\"}],\"scattergeo\":[{\"type\":\"scattergeo\",\"marker\":{\"colorbar\":{\"outlinewidth\":0,\"ticks\":\"\"}}}],\"scatterpolar\":[{\"type\":\"scatterpolar\",\"marker\":{\"colorbar\":{\"outlinewidth\":0,\"ticks\":\"\"}}}],\"histogram\":[{\"marker\":{\"pattern\":{\"fillmode\":\"overlay\",\"size\":10,\"solidity\":0.2}},\"type\":\"histogram\"}],\"scattergl\":[{\"type\":\"scattergl\",\"marker\":{\"colorbar\":{\"outlinewidth\":0,\"ticks\":\"\"}}}],\"scatter3d\":[{\"type\":\"scatter3d\",\"line\":{\"colorbar\":{\"outlinewidth\":0,\"ticks\":\"\"}},\"marker\":{\"colorbar\":{\"outlinewidth\":0,\"ticks\":\"\"}}}],\"scattermapbox\":[{\"type\":\"scattermapbox\",\"marker\":{\"colorbar\":{\"outlinewidth\":0,\"ticks\":\"\"}}}],\"scatterternary\":[{\"type\":\"scatterternary\",\"marker\":{\"colorbar\":{\"outlinewidth\":0,\"ticks\":\"\"}}}],\"scattercarpet\":[{\"type\":\"scattercarpet\",\"marker\":{\"colorbar\":{\"outlinewidth\":0,\"ticks\":\"\"}}}],\"carpet\":[{\"aaxis\":{\"endlinecolor\":\"#2a3f5f\",\"gridcolor\":\"white\",\"linecolor\":\"white\",\"minorgridcolor\":\"white\",\"startlinecolor\":\"#2a3f5f\"},\"baxis\":{\"endlinecolor\":\"#2a3f5f\",\"gridcolor\":\"white\",\"linecolor\":\"white\",\"minorgridcolor\":\"white\",\"startlinecolor\":\"#2a3f5f\"},\"type\":\"carpet\"}],\"table\":[{\"cells\":{\"fill\":{\"color\":\"#EBF0F8\"},\"line\":{\"color\":\"white\"}},\"header\":{\"fill\":{\"color\":\"#C8D4E3\"},\"line\":{\"color\":\"white\"}},\"type\":\"table\"}],\"barpolar\":[{\"marker\":{\"line\":{\"color\":\"#E5ECF6\",\"width\":0.5},\"pattern\":{\"fillmode\":\"overlay\",\"size\":10,\"solidity\":0.2}},\"type\":\"barpolar\"}],\"pie\":[{\"automargin\":true,\"type\":\"pie\"}]},\"layout\":{\"autotypenumbers\":\"strict\",\"colorway\":[\"#636efa\",\"#EF553B\",\"#00cc96\",\"#ab63fa\",\"#FFA15A\",\"#19d3f3\",\"#FF6692\",\"#B6E880\",\"#FF97FF\",\"#FECB52\"],\"font\":{\"color\":\"#2a3f5f\"},\"hovermode\":\"closest\",\"hoverlabel\":{\"align\":\"left\"},\"paper_bgcolor\":\"white\",\"plot_bgcolor\":\"#E5ECF6\",\"polar\":{\"bgcolor\":\"#E5ECF6\",\"angularaxis\":{\"gridcolor\":\"white\",\"linecolor\":\"white\",\"ticks\":\"\"},\"radialaxis\":{\"gridcolor\":\"white\",\"linecolor\":\"white\",\"ticks\":\"\"}},\"ternary\":{\"bgcolor\":\"#E5ECF6\",\"aaxis\":{\"gridcolor\":\"white\",\"linecolor\":\"white\",\"ticks\":\"\"},\"baxis\":{\"gridcolor\":\"white\",\"linecolor\":\"white\",\"ticks\":\"\"},\"caxis\":{\"gridcolor\":\"white\",\"linecolor\":\"white\",\"ticks\":\"\"}},\"coloraxis\":{\"colorbar\":{\"outlinewidth\":0,\"ticks\":\"\"}},\"colorscale\":{\"sequential\":[[0.0,\"#0d0887\"],[0.1111111111111111,\"#46039f\"],[0.2222222222222222,\"#7201a8\"],[0.3333333333333333,\"#9c179e\"],[0.4444444444444444,\"#bd3786\"],[0.5555555555555556,\"#d8576b\"],[0.6666666666666666,\"#ed7953\"],[0.7777777777777778,\"#fb9f3a\"],[0.8888888888888888,\"#fdca26\"],[1.0,\"#f0f921\"]],\"sequentialminus\":[[0.0,\"#0d0887\"],[0.1111111111111111,\"#46039f\"],[0.2222222222222222,\"#7201a8\"],[0.3333333333333333,\"#9c179e\"],[0.4444444444444444,\"#bd3786\"],[0.5555555555555556,\"#d8576b\"],[0.6666666666666666,\"#ed7953\"],[0.7777777777777778,\"#fb9f3a\"],[0.8888888888888888,\"#fdca26\"],[1.0,\"#f0f921\"]],\"diverging\":[[0,\"#8e0152\"],[0.1,\"#c51b7d\"],[0.2,\"#de77ae\"],[0.3,\"#f1b6da\"],[0.4,\"#fde0ef\"],[0.5,\"#f7f7f7\"],[0.6,\"#e6f5d0\"],[0.7,\"#b8e186\"],[0.8,\"#7fbc41\"],[0.9,\"#4d9221\"],[1,\"#276419\"]]},\"xaxis\":{\"gridcolor\":\"white\",\"linecolor\":\"white\",\"ticks\":\"\",\"title\":{\"standoff\":15},\"zerolinecolor\":\"white\",\"automargin\":true,\"zerolinewidth\":2},\"yaxis\":{\"gridcolor\":\"white\",\"linecolor\":\"white\",\"ticks\":\"\",\"title\":{\"standoff\":15},\"zerolinecolor\":\"white\",\"automargin\":true,\"zerolinewidth\":2},\"scene\":{\"xaxis\":{\"backgroundcolor\":\"#E5ECF6\",\"gridcolor\":\"white\",\"linecolor\":\"white\",\"showbackground\":true,\"ticks\":\"\",\"zerolinecolor\":\"white\",\"gridwidth\":2},\"yaxis\":{\"backgroundcolor\":\"#E5ECF6\",\"gridcolor\":\"white\",\"linecolor\":\"white\",\"showbackground\":true,\"ticks\":\"\",\"zerolinecolor\":\"white\",\"gridwidth\":2},\"zaxis\":{\"backgroundcolor\":\"#E5ECF6\",\"gridcolor\":\"white\",\"linecolor\":\"white\",\"showbackground\":true,\"ticks\":\"\",\"zerolinecolor\":\"white\",\"gridwidth\":2}},\"shapedefaults\":{\"line\":{\"color\":\"#2a3f5f\"}},\"annotationdefaults\":{\"arrowcolor\":\"#2a3f5f\",\"arrowhead\":0,\"arrowwidth\":1},\"geo\":{\"bgcolor\":\"white\",\"landcolor\":\"#E5ECF6\",\"subunitcolor\":\"white\",\"showland\":true,\"showlakes\":true,\"lakecolor\":\"white\"},\"title\":{\"x\":0.05},\"mapbox\":{\"style\":\"light\"}}},\"xaxis\":{\"anchor\":\"y\",\"domain\":[0.0,1.0]},\"yaxis\":{\"anchor\":\"x\",\"domain\":[0.0,1.0],\"title\":{\"text\":\"Price\"}},\"legend\":{\"tracegroupgap\":0},\"margin\":{\"t\":60},\"boxmode\":\"group\"},                        {\"responsive\": true}                    ).then(function(){\n",
       "                            \n",
       "var gd = document.getElementById('f18b29ec-68f6-4865-b601-f01b4e49fbab');\n",
       "var x = new MutationObserver(function (mutations, observer) {{\n",
       "        var display = window.getComputedStyle(gd).display;\n",
       "        if (!display || display === 'none') {{\n",
       "            console.log([gd, 'removed!']);\n",
       "            Plotly.purge(gd);\n",
       "            observer.disconnect();\n",
       "        }}\n",
       "}});\n",
       "\n",
       "// Listen for the removal of the full notebook cells\n",
       "var notebookContainer = gd.closest('#notebook-container');\n",
       "if (notebookContainer) {{\n",
       "    x.observe(notebookContainer, {childList: true});\n",
       "}}\n",
       "\n",
       "// Listen for the clearing of the current output cell\n",
       "var outputEl = gd.closest('.output');\n",
       "if (outputEl) {{\n",
       "    x.observe(outputEl, {childList: true});\n",
       "}}\n",
       "\n",
       "                        })                };                });            </script>        </div>"
      ]
     },
     "metadata": {},
     "output_type": "display_data"
    }
   ],
   "source": [
    "import plotly.express as px\n",
    "\n",
    "df = data[(data['Price'] != 84999) & (data['Price'] != 59999)]\n",
    "\n",
    "fig = px.box(data, y='Price', points='all')\n",
    "fig.show()"
   ]
  },
  {
   "cell_type": "code",
   "execution_count": 41,
   "id": "17d0ee50",
   "metadata": {},
   "outputs": [
    {
     "name": "stdout",
     "output_type": "stream",
     "text": [
      "PCA(n_components=2)\n"
     ]
    },
    {
     "data": {
      "image/png": "[encoded data removed]",
      "text/plain": [
       "<Figure size 800x800 with 1 Axes>"
      ]
     },
     "metadata": {},
     "output_type": "display_data"
    }
   ],
   "source": [
    "from sklearn.decomposition import PCA\n",
    "pca = PCA(n_components = 2)\n",
    "principal_components = pca.fit_transform(df_scaled)\n",
    "\n",
    "df_pca = pd.DataFrame(principal_components)\n",
    "df_pca[cat_columns] = data[cat_columns].values\n",
    "\n",
    "df_pca.columns = ['pc1', 'pc2'] + cat_columns\n",
    "\n",
    "sns.set(style='white', color_codes=True, font_scale=1.3)\n",
    "sns.lmplot(data=df_pca, x='pc1', y='pc2', fit_reg=False, height=8)\n",
    "\n",
    "xvector = pca.components_[0]\n",
    "yvector = pca.components_[1]\n",
    "\n",
    "#print(dir(pca))\n",
    "#print(pca.explained_variance_ratio_)\n",
    "print(pca)\n",
    "\n",
    "df = pd.DataFrame()\n",
    "x,y,f = [],[],[]\n",
    "for c,xx,yy in zip(df_vals_only.columns.values, xvector, yvector):\n",
    "    f += [c]*2\n",
    "    x += [0, xx]\n",
    "    y += [0, yy]\n",
    "    \n",
    "df['Feature'] = f\n",
    "df['x'] = x\n",
    "df['y'] = y\n",
    "df.to_csv('features.csv', index=False)\n",
    "\n",
    "# value of the first two PCs, set the x, y axis boundary\n",
    "xs = pca.transform(df_scaled)[:,0]\n",
    "ys = pca.transform(df_scaled)[:,1]\n",
    "\n",
    "for i in range(len(xvector)):\n",
    "    plt.arrow(0, 0, xvector[i]*max(xs), yvector[i]*max(ys),\n",
    "              color='r', width=0.005, head_width=0.05)\n",
    "    plt.text(xvector[i]*max(xs)*1.1, yvector[i]*max(ys)*1.1,\n",
    "             list(df_vals_only.columns.values)[i], color='r', alpha=0.5)\n",
    "    \n",
    "df_pca.to_csv('pca.csv', index=False)\n",
    "\n",
    "import sklearn.cluster as skc\n",
    "kmeans_model = skc.KMeans(n_clusters=2)\n",
    "kmeans_model.fit(df_scaled)\n",
    "df_kmeans = data.copy()\n",
    "df_kmeans['cluster_labels_kmeans'] = kmeans_model.labels_\n",
    "df_kmeans.to_csv('kmeans.csv', index=False)"
   ]
  },
  {
   "cell_type": "code",
   "execution_count": 3,
   "id": "63ca9f3c",
   "metadata": {},
   "outputs": [
    {
     "data": {
      "text/html": [
       "<div>\n",
       "<style scoped>\n",
       "    .dataframe tbody tr th:only-of-type {\n",
       "        vertical-align: middle;\n",
       "    }\n",
       "\n",
       "    .dataframe tbody tr th {\n",
       "        vertical-align: top;\n",
       "    }\n",
       "\n",
       "    .dataframe thead th {\n",
       "        text-align: right;\n",
       "    }\n",
       "</style>\n",
       "<table border=\"1\" class=\"dataframe\">\n",
       "  <thead>\n",
       "    <tr style=\"text-align: right;\">\n",
       "      <th></th>\n",
       "      <th>PC1</th>\n",
       "      <th>PC2</th>\n",
       "      <th>Feature</th>\n",
       "    </tr>\n",
       "  </thead>\n",
       "  <tbody>\n",
       "    <tr>\n",
       "      <th>0</th>\n",
       "      <td>-0.607949</td>\n",
       "      <td>0.564411</td>\n",
       "      <td>Price</td>\n",
       "    </tr>\n",
       "    <tr>\n",
       "      <th>1</th>\n",
       "      <td>0.337866</td>\n",
       "      <td>0.414374</td>\n",
       "      <td>Rating</td>\n",
       "    </tr>\n",
       "    <tr>\n",
       "      <th>2</th>\n",
       "      <td>0.797586</td>\n",
       "      <td>0.544285</td>\n",
       "      <td>No_of_ratings</td>\n",
       "    </tr>\n",
       "    <tr>\n",
       "      <th>3</th>\n",
       "      <td>0.745405</td>\n",
       "      <td>0.591842</td>\n",
       "      <td>TotalReviews</td>\n",
       "    </tr>\n",
       "    <tr>\n",
       "      <th>4</th>\n",
       "      <td>-0.574877</td>\n",
       "      <td>0.491640</td>\n",
       "      <td>RamSize (GB)</td>\n",
       "    </tr>\n",
       "    <tr>\n",
       "      <th>5</th>\n",
       "      <td>-0.624368</td>\n",
       "      <td>0.623854</td>\n",
       "      <td>RomSize (GB)</td>\n",
       "    </tr>\n",
       "  </tbody>\n",
       "</table>\n",
       "</div>"
      ],
      "text/plain": [
       "        PC1       PC2        Feature\n",
       "0 -0.607949  0.564411          Price\n",
       "1  0.337866  0.414374         Rating\n",
       "2  0.797586  0.544285  No_of_ratings\n",
       "3  0.745405  0.591842   TotalReviews\n",
       "4 -0.574877  0.491640   RamSize (GB)\n",
       "5 -0.624368  0.623854   RomSize (GB)"
      ]
     },
     "metadata": {},
     "output_type": "display_data"
    }
   ],
   "source": [
    "from sklearn.decomposition import PCA\n",
    "import numpy as np\n",
    "\n",
    "vals = []\n",
    "for n in range(1, 5+1):\n",
    "    pca = PCA(n_components=n)\n",
    "    principal_components = pca.fit_transform(df_scaled)\n",
    "    loadings = pca.components_.T * np.sqrt(pca.explained_variance_)\n",
    "    components = pd.DataFrame(pca.components_)\n",
    "    components.columns = df_vals_only.columns\n",
    "    vals.append(round(sum(pca.explained_variance_ratio_), 2))\n",
    "    if n == 2:\n",
    "        pca2 = pca\n",
    "    \n",
    "df = pd.DataFrame({ 'PCA Components' : [f'PC{n}' for n in list(range(1,5+1))], \n",
    "                    'Explained variance' : vals,\n",
    "                    'pca.explained_variance_ratio_' : pca.explained_variance_ratio_})\n",
    "\n",
    "\n",
    "loadings = pca2.components_.T * np.sqrt(pca2.explained_variance_)\n",
    "loadings_df = pd.DataFrame(loadings, columns=[f'PC{n}' for n in list(range(1,2+1))])\n",
    "loadings_df['Feature'] = df_vals_only.columns.tolist()\n",
    "display(loadings_df)\n",
    "\n",
    "df.to_csv('pca_variance.csv', index=False)\n",
    "loadings_df.to_csv('pca_loadings.csv', index=False)"
   ]
  }
 ],
 "metadata": {
  "kernelspec": {
   "display_name": "Python 3 (ipykernel)",
   "language": "python",
   "name": "python3"
  },
  "language_info": {
   "codemirror_mode": {
    "name": "ipython",
    "version": 3
   },
   "file_extension": ".py",
   "mimetype": "text/x-python",
   "name": "python",
   "nbconvert_exporter": "python",
   "pygments_lexer": "ipython3",
   "version": "3.10.7"
  }
 },
 "nbformat": 4,
 "nbformat_minor": 5
}
